{
  "nbformat": 4,
  "nbformat_minor": 0,
  "metadata": {
    "accelerator": "GPU",
    "colab": {
      "name": "5_neural_nets_with_keras.ipynb",
      "provenance": [],
      "collapsed_sections": []
    },
    "kernelspec": {
      "display_name": "Python 3",
      "language": "python",
      "name": "python3"
    },
    "language_info": {
      "codemirror_mode": {
        "name": "ipython",
        "version": 3
      },
      "file_extension": ".py",
      "mimetype": "text/x-python",
      "name": "python",
      "nbconvert_exporter": "python",
      "pygments_lexer": "ipython3",
      "version": "3.7.6"
    },
    "nav_menu": {
      "height": "264px",
      "width": "369px"
    },
    "toc": {
      "navigate_menu": true,
      "number_sections": true,
      "sideBar": true,
      "threshold": 6,
      "toc_cell": false,
      "toc_section_display": "block",
      "toc_window_display": false
    }
  },
  "cells": [
    {
      "cell_type": "markdown",
      "metadata": {
        "id": "piBSRAqc96nN"
      },
      "source": [
        "**Chapter 10 – Introduction to Artificial Neural Networks with Keras**\n",
        "\n",
        "_This notebook contains all the sample code and solutions to the exercises in chapter 10._"
      ]
    },
    {
      "cell_type": "markdown",
      "metadata": {
        "id": "C3TTeAuN96nU"
      },
      "source": [
        "# Setup"
      ]
    },
    {
      "cell_type": "markdown",
      "metadata": {
        "id": "6fZRoRpY96nV"
      },
      "source": [
        "First, let's import a few common modules, ensure MatplotLib plots figures inline and prepare a function to save the figures. We also check that Python 3.5 or later is installed (although Python 2.x may work, it is deprecated so we strongly recommend you use Python 3 instead), as well as Scikit-Learn ≥0.20 and TensorFlow ≥2.0."
      ]
    },
    {
      "cell_type": "code",
      "metadata": {
        "id": "y3_Ulmke96nV"
      },
      "source": [
        "# Python ≥3.5 is required\n",
        "import sys\n",
        "assert sys.version_info >= (3, 5)\n",
        "\n",
        "# Scikit-Learn ≥0.20 is required\n",
        "import sklearn\n",
        "assert sklearn.__version__ >= \"0.20\"\n",
        "\n",
        "try:\n",
        "    # %tensorflow_version only exists in Colab.\n",
        "    %tensorflow_version 2.x\n",
        "except Exception:\n",
        "    pass\n",
        "\n",
        "# TensorFlow ≥2.0 is required\n",
        "import tensorflow as tf\n",
        "assert tf.__version__ >= \"2.0\"\n",
        "\n",
        "# Common imports\n",
        "import numpy as np\n",
        "import os\n",
        "\n",
        "# to make this notebook's output stable across runs\n",
        "np.random.seed(42)\n",
        "\n",
        "# To plot pretty figures\n",
        "%matplotlib inline\n",
        "import matplotlib as mpl\n",
        "import matplotlib.pyplot as plt\n",
        "mpl.rc('axes', labelsize=14)\n",
        "mpl.rc('xtick', labelsize=12)\n",
        "mpl.rc('ytick', labelsize=12)\n",
        "\n",
        "# Where to save the figures\n",
        "PROJECT_ROOT_DIR = \".\"\n",
        "CHAPTER_ID = \"ann\"\n",
        "IMAGES_PATH = os.path.join(PROJECT_ROOT_DIR, \"images\", CHAPTER_ID)\n",
        "os.makedirs(IMAGES_PATH, exist_ok=True)\n",
        "\n",
        "def save_fig(fig_id, tight_layout=True, fig_extension=\"png\", resolution=300):\n",
        "    path = os.path.join(IMAGES_PATH, fig_id + \".\" + fig_extension)\n",
        "    print(\"Saving figure\", fig_id)\n",
        "    if tight_layout:\n",
        "        plt.tight_layout()\n",
        "    plt.savefig(path, format=fig_extension, dpi=resolution)\n"
      ],
      "execution_count": 46,
      "outputs": []
    },
    {
      "cell_type": "markdown",
      "metadata": {
        "id": "AKK8dS-C96nW"
      },
      "source": [
        "# Perceptrons"
      ]
    },
    {
      "cell_type": "markdown",
      "metadata": {
        "id": "T2GbE_Wj96nW"
      },
      "source": [
        "**Note**: we set `max_iter` and `tol` explicitly to avoid warnings about the fact that their default value will change in future versions of Scikit-Learn."
      ]
    },
    {
      "cell_type": "markdown",
      "metadata": {
        "id": "Tut21LOA-I2r"
      },
      "source": [
        "**Task 1:** Fit the iris dataset into a Perceptron layer and predict the class of a sample with length 2 and width 0.5. Use: \n",
        "'max_iter=1000', 'tol =1e-3' and 'random_state= 42'.\n",
        "\n",
        "\n",
        "\n"
      ]
    },
    {
      "cell_type": "code",
      "metadata": {
        "id": "bc419YFJ96nX"
      },
      "source": [
        "import numpy as np\n",
        "from sklearn.datasets import load_iris\n",
        "from sklearn.linear_model import Perceptron\n",
        "\n",
        "iris = load_iris()\n",
        "X = iris.data[:, (2, 3)]  # petal length, petal width\n",
        "y = (iris.target == 0).astype(np.int)\n"
      ],
      "execution_count": 48,
      "outputs": []
    },
    {
      "cell_type": "code",
      "metadata": {
        "id": "-5wg3vIj3gxL"
      },
      "source": [
        "#per_clf = \n",
        "per_clf = Perceptron(max_iter=1000, tol=1e-3, random_state=42)\n",
        "per_clf.fit(X, y)\n",
        "\n",
        "#y_pred =\n",
        "y_pred = per_clf.predict([[2, 0.5]])\n",
        "\n",
        " "
      ],
      "execution_count": 51,
      "outputs": []
    },
    {
      "cell_type": "code",
      "metadata": {
        "id": "RU8nJGQo96nY",
        "colab": {
          "base_uri": "https://localhost:8080/"
        },
        "outputId": "11d27b96-a6db-46a3-e43b-c8e9e29a8a37"
      },
      "source": [
        "y_pred"
      ],
      "execution_count": 53,
      "outputs": [
        {
          "output_type": "execute_result",
          "data": {
            "text/plain": [
              "array([1])"
            ]
          },
          "metadata": {
            "tags": []
          },
          "execution_count": 53
        }
      ]
    },
    {
      "cell_type": "code",
      "metadata": {
        "id": "KzqgH5uG96nZ",
        "colab": {
          "base_uri": "https://localhost:8080/",
          "height": 291
        },
        "outputId": "427b77f2-3c11-4799-dc02-c4ec626aff81"
      },
      "source": [
        "a = -per_clf.coef_[0][0] / per_clf.coef_[0][1]\n",
        "b = -per_clf.intercept_ / per_clf.coef_[0][1]\n",
        "\n",
        "axes = [0, 5, 0, 2]\n",
        "\n",
        "x0, x1 = np.meshgrid(\n",
        "        np.linspace(axes[0], axes[1], 500).reshape(-1, 1),\n",
        "        np.linspace(axes[2], axes[3], 200).reshape(-1, 1),\n",
        "    )\n",
        "X_new = np.c_[x0.ravel(), x1.ravel()]\n",
        "y_predict = per_clf.predict(X_new)\n",
        "zz = y_predict.reshape(x0.shape)\n",
        "\n",
        "plt.figure(figsize=(10, 4))\n",
        "plt.plot(X[y==0, 0], X[y==0, 1], \"bs\", label=\"Not Iris-Setosa\")\n",
        "plt.plot(X[y==1, 0], X[y==1, 1], \"yo\", label=\"Iris-Setosa\")\n",
        "\n",
        "plt.plot([axes[0], axes[1]], [a * axes[0] + b, a * axes[1] + b], \"k-\", linewidth=3)\n",
        "from matplotlib.colors import ListedColormap\n",
        "custom_cmap = ListedColormap(['#9898ff', '#fafab0'])\n",
        "\n",
        "plt.contourf(x0, x1, zz, cmap=custom_cmap)\n",
        "plt.xlabel(\"Petal length\", fontsize=14)\n",
        "plt.ylabel(\"Petal width\", fontsize=14)\n",
        "plt.legend(loc=\"lower right\", fontsize=14)\n",
        "plt.axis(axes)\n",
        "\n",
        "#save_fig(\"perceptron_iris_plot\")\n",
        "plt.show()"
      ],
      "execution_count": 54,
      "outputs": [
        {
          "output_type": "display_data",
          "data": {
            "image/png": "[encoded data removed]",
            "text/plain": [
              "<Figure size 720x288 with 1 Axes>"
            ]
          },
          "metadata": {
            "tags": [],
            "needs_background": "light"
          }
        }
      ]
    },
    {
      "cell_type": "markdown",
      "metadata": {
        "id": "c7AzNDaU-xOV"
      },
      "source": [
        "**Task 2:** Elaborate **in the report** on the difference between a perceptron and logistic regression."
      ]
    },
    {
      "cell_type": "markdown",
      "metadata": {
        "id": "I8yEEke4RUUF"
      },
      "source": [
        "Perceptron can be used with multiple activation functions which logistic regression makes use of the sigmoid."
      ]
    },
    {
      "cell_type": "markdown",
      "metadata": {
        "id": "AZr175SP96na"
      },
      "source": [
        "# Activation functions"
      ]
    },
    {
      "cell_type": "markdown",
      "metadata": {
        "id": "uBhSPTlaDZcE"
      },
      "source": [
        "**Task 3:** Briefly describe **in the report** the role of activation functions within a neural network. What would be a neural network without these functions? "
      ]
    },
    {
      "cell_type": "markdown",
      "metadata": {
        "id": "KN9l-r8_Nqto"
      },
      "source": [
        "An activation function are mathematical equations which determine the output of a neural network. It is attached to each neuron and decides whether it should be activated or not based on whether each neuron's output is relevant to model's prediction. \r\n",
        "Without an activation function a neural network is simply a linear regression model. "
      ]
    },
    {
      "cell_type": "markdown",
      "metadata": {
        "id": "4zZHVAV096nd"
      },
      "source": [
        "# Building an Image Classifier"
      ]
    },
    {
      "cell_type": "markdown",
      "metadata": {
        "id": "D6d_vhWv96nd"
      },
      "source": [
        "First let's import TensorFlow and Keras."
      ]
    },
    {
      "cell_type": "code",
      "metadata": {
        "id": "H2XiMCMx96nd"
      },
      "source": [
        "import tensorflow as tf\n",
        "from tensorflow import keras"
      ],
      "execution_count": 55,
      "outputs": []
    },
    {
      "cell_type": "code",
      "metadata": {
        "colab": {
          "base_uri": "https://localhost:8080/",
          "height": 35
        },
        "id": "kSUOusSb96nd",
        "outputId": "36e1766a-8ff1-4762-b081-54b6da478c40"
      },
      "source": [
        "tf.__version__"
      ],
      "execution_count": 56,
      "outputs": [
        {
          "output_type": "execute_result",
          "data": {
            "application/vnd.google.colaboratory.intrinsic+json": {
              "type": "string"
            },
            "text/plain": [
              "'2.4.1'"
            ]
          },
          "metadata": {
            "tags": []
          },
          "execution_count": 56
        }
      ]
    },
    {
      "cell_type": "code",
      "metadata": {
        "colab": {
          "base_uri": "https://localhost:8080/",
          "height": 35
        },
        "id": "qClTS5Qo96nd",
        "outputId": "0933e823-4182-49c7-92bc-797e1e1e8a47"
      },
      "source": [
        "keras.__version__"
      ],
      "execution_count": 57,
      "outputs": [
        {
          "output_type": "execute_result",
          "data": {
            "application/vnd.google.colaboratory.intrinsic+json": {
              "type": "string"
            },
            "text/plain": [
              "'2.4.0'"
            ]
          },
          "metadata": {
            "tags": []
          },
          "execution_count": 57
        }
      ]
    },
    {
      "cell_type": "markdown",
      "metadata": {
        "id": "0IC001Fj96ne"
      },
      "source": [
        "Let's start by loading the fashion MNIST dataset. Keras has a number of functions to load popular datasets in `keras.datasets`. The dataset is already split for you between a training set and a test set, but it can be useful to split the training set further to have a validation set:"
      ]
    },
    {
      "cell_type": "code",
      "metadata": {
        "id": "k1Vd2nar96ne"
      },
      "source": [
        "fashion_mnist = keras.datasets.fashion_mnist\n",
        "(X_train_full, y_train_full), (X_test, y_test) = fashion_mnist.load_data()"
      ],
      "execution_count": 58,
      "outputs": []
    },
    {
      "cell_type": "markdown",
      "metadata": {
        "id": "Bm2mJI2v96ne"
      },
      "source": [
        "The training set contains 60,000 grayscale images, each 28x28 pixels:"
      ]
    },
    {
      "cell_type": "code",
      "metadata": {
        "id": "mKeNURr096nf",
        "colab": {
          "base_uri": "https://localhost:8080/"
        },
        "outputId": "07e536fc-86f6-4a5a-cb0f-04525ba16de9"
      },
      "source": [
        "X_train_full.shape"
      ],
      "execution_count": 59,
      "outputs": [
        {
          "output_type": "execute_result",
          "data": {
            "text/plain": [
              "(60000, 28, 28)"
            ]
          },
          "metadata": {
            "tags": []
          },
          "execution_count": 59
        }
      ]
    },
    {
      "cell_type": "code",
      "metadata": {
        "id": "Rl-6YraaP13x"
      },
      "source": [
        ""
      ],
      "execution_count": 64,
      "outputs": []
    },
    {
      "cell_type": "markdown",
      "metadata": {
        "id": "2q7eH1GS96nf"
      },
      "source": [
        "Each pixel intensity is represented as a byte (0 to 255):"
      ]
    },
    {
      "cell_type": "code",
      "metadata": {
        "id": "JpJBj89g96ng",
        "colab": {
          "base_uri": "https://localhost:8080/"
        },
        "outputId": "b55ee035-76a1-4205-cd7d-461238b4872f"
      },
      "source": [
        "X_train_full.dtype"
      ],
      "execution_count": 65,
      "outputs": [
        {
          "output_type": "execute_result",
          "data": {
            "text/plain": [
              "dtype('uint8')"
            ]
          },
          "metadata": {
            "tags": []
          },
          "execution_count": 65
        }
      ]
    },
    {
      "cell_type": "markdown",
      "metadata": {
        "id": "up_jreEp96ng"
      },
      "source": [
        "Let's split the full training set into a validation set and a (smaller) training set. We also scale the pixel intensities down to the 0-1 range and convert them to floats, by dividing by 255."
      ]
    },
    {
      "cell_type": "code",
      "metadata": {
        "id": "AAZzoYRD96ng"
      },
      "source": [
        "X_valid, X_train = X_train_full[:5000] / 255., X_train_full[5000:] / 255.\n",
        "y_valid, y_train = y_train_full[:5000], y_train_full[5000:]\n",
        "X_test = X_test / 255."
      ],
      "execution_count": 66,
      "outputs": []
    },
    {
      "cell_type": "markdown",
      "metadata": {
        "id": "IG-ZXYbM96ng"
      },
      "source": [
        "You can plot an image using Matplotlib's `imshow()` function, with a `'binary'`\n",
        " color map:"
      ]
    },
    {
      "cell_type": "code",
      "metadata": {
        "id": "h5qfRYzl96ng",
        "colab": {
          "base_uri": "https://localhost:8080/",
          "height": 248
        },
        "outputId": "876f299f-723c-41cc-8fea-96992e881635"
      },
      "source": [
        "plt.imshow(X_train[0], cmap=\"binary\")\n",
        "plt.axis('off')\n",
        "plt.show()"
      ],
      "execution_count": 67,
      "outputs": [
        {
          "output_type": "display_data",
          "data": {
            "image/png": "[encoded data removed]",
            "text/plain": [
              "<Figure size 432x288 with 1 Axes>"
            ]
          },
          "metadata": {
            "tags": [],
            "needs_background": "light"
          }
        }
      ]
    },
    {
      "cell_type": "markdown",
      "metadata": {
        "id": "0HIhKfBK96nh"
      },
      "source": [
        "The labels are the class IDs (represented as uint8), from 0 to 9:"
      ]
    },
    {
      "cell_type": "code",
      "metadata": {
        "id": "CC0hpimX96nh",
        "colab": {
          "base_uri": "https://localhost:8080/"
        },
        "outputId": "463c6e65-3b22-4fac-eb1e-07642eff5512"
      },
      "source": [
        "y_train"
      ],
      "execution_count": 68,
      "outputs": [
        {
          "output_type": "execute_result",
          "data": {
            "text/plain": [
              "array([4, 0, 7, ..., 3, 0, 5], dtype=uint8)"
            ]
          },
          "metadata": {
            "tags": []
          },
          "execution_count": 68
        }
      ]
    },
    {
      "cell_type": "markdown",
      "metadata": {
        "id": "XuQH9NeY96nh"
      },
      "source": [
        "Here are the corresponding class names:"
      ]
    },
    {
      "cell_type": "code",
      "metadata": {
        "id": "6DnDTta596nh"
      },
      "source": [
        "class_names = [\"T-shirt/top\", \"Trouser\", \"Pullover\", \"Dress\", \"Coat\",\n",
        "               \"Sandal\", \"Shirt\", \"Sneaker\", \"Bag\", \"Ankle boot\"]"
      ],
      "execution_count": 69,
      "outputs": []
    },
    {
      "cell_type": "markdown",
      "metadata": {
        "id": "7Z3ctcPE96ni"
      },
      "source": [
        "So the first image in the training set is a coat:"
      ]
    },
    {
      "cell_type": "code",
      "metadata": {
        "id": "wo3nXTyr96ni",
        "colab": {
          "base_uri": "https://localhost:8080/",
          "height": 35
        },
        "outputId": "ea39944b-3422-49aa-e721-9ad06a02d728"
      },
      "source": [
        "class_names[y_train[0]]"
      ],
      "execution_count": 70,
      "outputs": [
        {
          "output_type": "execute_result",
          "data": {
            "application/vnd.google.colaboratory.intrinsic+json": {
              "type": "string"
            },
            "text/plain": [
              "'Coat'"
            ]
          },
          "metadata": {
            "tags": []
          },
          "execution_count": 70
        }
      ]
    },
    {
      "cell_type": "markdown",
      "metadata": {
        "id": "CSVf64Kv96ni"
      },
      "source": [
        "The validation set contains 5,000 images, and the test set contains 10,000 images:"
      ]
    },
    {
      "cell_type": "code",
      "metadata": {
        "id": "r3DPLv7496ni",
        "colab": {
          "base_uri": "https://localhost:8080/"
        },
        "outputId": "a81eb947-9bd4-4dce-d4e3-7ea09c2242f2"
      },
      "source": [
        "X_valid.shape"
      ],
      "execution_count": 71,
      "outputs": [
        {
          "output_type": "execute_result",
          "data": {
            "text/plain": [
              "(5000, 28, 28)"
            ]
          },
          "metadata": {
            "tags": []
          },
          "execution_count": 71
        }
      ]
    },
    {
      "cell_type": "code",
      "metadata": {
        "id": "oBVt2-n196nj",
        "colab": {
          "base_uri": "https://localhost:8080/"
        },
        "outputId": "7fccf5be-c308-4c1f-b954-5bd00644d843"
      },
      "source": [
        "X_test.shape"
      ],
      "execution_count": 72,
      "outputs": [
        {
          "output_type": "execute_result",
          "data": {
            "text/plain": [
              "(10000, 28, 28)"
            ]
          },
          "metadata": {
            "tags": []
          },
          "execution_count": 72
        }
      ]
    },
    {
      "cell_type": "markdown",
      "metadata": {
        "id": "cr7f-I2i96nj"
      },
      "source": [
        "Let's take a look at a sample of the images in the dataset:"
      ]
    },
    {
      "cell_type": "code",
      "metadata": {
        "id": "OiwEaciG96nj",
        "colab": {
          "base_uri": "https://localhost:8080/",
          "height": 325
        },
        "outputId": "6ec514b0-a3b8-46e0-855a-8847b5be369e"
      },
      "source": [
        "n_rows = 4\n",
        "n_cols = 10\n",
        "plt.figure(figsize=(n_cols * 1.2, n_rows * 1.2))\n",
        "for row in range(n_rows):\n",
        "    for col in range(n_cols):\n",
        "        index = n_cols * row + col\n",
        "        plt.subplot(n_rows, n_cols, index + 1)\n",
        "        plt.imshow(X_train[index], cmap=\"binary\", interpolation=\"nearest\")\n",
        "        plt.axis('off')\n",
        "        plt.title(class_names[y_train[index]], fontsize=12)\n",
        "plt.subplots_adjust(wspace=0.2, hspace=0.5)\n",
        "save_fig('fashion_mnist_plot', tight_layout=False)\n",
        "plt.show()"
      ],
      "execution_count": 73,
      "outputs": [
        {
          "output_type": "stream",
          "text": [
            "Saving figure fashion_mnist_plot\n"
          ],
          "name": "stdout"
        },
        {
          "output_type": "display_data",
          "data": {
            "image/png": "[encoded data removed]",
            "text/plain": [
              "<Figure size 864x345.6 with 40 Axes>"
            ]
          },
          "metadata": {
            "tags": [],
            "needs_background": "light"
          }
        }
      ]
    },
    {
      "cell_type": "markdown",
      "metadata": {
        "id": "t1G5vYM4AEYy"
      },
      "source": [
        "**Training a neural network using Keras:** In the cells below we  build an deep neural network model using Keras Sequential tool. The input is an image of shape 28 by 28. We use a network with 2 hidden layers with 300 and 100 neurons, respectively. The 'softmax' output activation function is used for multi-label classification.  "
      ]
    },
    {
      "cell_type": "code",
      "metadata": {
        "id": "MFYpKULg96nk"
      },
      "source": [
        "keras.backend.clear_session()\n",
        "np.random.seed(42)\n",
        "tf.random.set_seed(42)"
      ],
      "execution_count": 74,
      "outputs": []
    },
    {
      "cell_type": "code",
      "metadata": {
        "id": "nHTrilwL96nk"
      },
      "source": [
        "model = keras.models.Sequential([\n",
        "    keras.layers.Flatten(input_shape=[28, 28]),\n",
        "    keras.layers.Dense(300, activation=\"relu\"),\n",
        "    keras.layers.Dense(100, activation=\"relu\"),\n",
        "    keras.layers.Dense(10, activation=\"softmax\")\n",
        "])"
      ],
      "execution_count": 75,
      "outputs": []
    },
    {
      "cell_type": "code",
      "metadata": {
        "id": "S6wLCkUc96nk",
        "colab": {
          "base_uri": "https://localhost:8080/"
        },
        "outputId": "ae5c18d1-3250-4393-a49a-81eb44259bfc"
      },
      "source": [
        "model.summary()"
      ],
      "execution_count": 76,
      "outputs": [
        {
          "output_type": "stream",
          "text": [
            "Model: \"sequential\"\n",
            "_________________________________________________________________\n",
            "Layer (type)                 Output Shape              Param #   \n",
            "=================================================================\n",
            "flatten (Flatten)            (None, 784)               0         \n",
            "_________________________________________________________________\n",
            "dense (Dense)                (None, 300)               235500    \n",
            "_________________________________________________________________\n",
            "dense_1 (Dense)              (None, 100)               30100     \n",
            "_________________________________________________________________\n",
            "dense_2 (Dense)              (None, 10)                1010      \n",
            "=================================================================\n",
            "Total params: 266,610\n",
            "Trainable params: 266,610\n",
            "Non-trainable params: 0\n",
            "_________________________________________________________________\n"
          ],
          "name": "stdout"
        }
      ]
    },
    {
      "cell_type": "code",
      "metadata": {
        "id": "rt04f4Ug96nl",
        "colab": {
          "base_uri": "https://localhost:8080/",
          "height": 533
        },
        "outputId": "f70a631a-59b2-47c4-d5d5-66aab2a6de30"
      },
      "source": [
        "keras.utils.plot_model(model, \"my_fashion_mnist_model.png\", show_shapes=True)"
      ],
      "execution_count": 77,
      "outputs": [
        {
          "output_type": "execute_result",
          "data": {
            "image/png": "[encoded data removed]",
            "text/plain": [
              "<IPython.core.display.Image object>"
            ]
          },
          "metadata": {
            "tags": []
          },
          "execution_count": 77
        }
      ]
    },
    {
      "cell_type": "code",
      "metadata": {
        "id": "DqQcMXAC96nl",
        "colab": {
          "base_uri": "https://localhost:8080/",
          "height": 35
        },
        "outputId": "e419aa68-96e2-4b3f-ab9e-155de2d6b82e"
      },
      "source": [
        "hidden1 = model.layers[1]\n",
        "hidden1.name"
      ],
      "execution_count": 78,
      "outputs": [
        {
          "output_type": "execute_result",
          "data": {
            "application/vnd.google.colaboratory.intrinsic+json": {
              "type": "string"
            },
            "text/plain": [
              "'dense'"
            ]
          },
          "metadata": {
            "tags": []
          },
          "execution_count": 78
        }
      ]
    },
    {
      "cell_type": "code",
      "metadata": {
        "id": "KVQqeMeS96nl",
        "colab": {
          "base_uri": "https://localhost:8080/"
        },
        "outputId": "9b418d1b-14c4-462a-dfd7-b1a26504e56d"
      },
      "source": [
        "model.get_layer(hidden1.name) is hidden1"
      ],
      "execution_count": 79,
      "outputs": [
        {
          "output_type": "execute_result",
          "data": {
            "text/plain": [
              "True"
            ]
          },
          "metadata": {
            "tags": []
          },
          "execution_count": 79
        }
      ]
    },
    {
      "cell_type": "code",
      "metadata": {
        "id": "eR5m6LjX96nl"
      },
      "source": [
        "weights, biases = hidden1.get_weights()"
      ],
      "execution_count": 80,
      "outputs": []
    },
    {
      "cell_type": "code",
      "metadata": {
        "id": "ETO_Mi2f96nm",
        "colab": {
          "base_uri": "https://localhost:8080/"
        },
        "outputId": "bc7f1f64-44f4-4e55-c439-fd562beb0b44"
      },
      "source": [
        "weights"
      ],
      "execution_count": 81,
      "outputs": [
        {
          "output_type": "execute_result",
          "data": {
            "text/plain": [
              "array([[ 0.02448617, -0.00877795, -0.02189048, ..., -0.02766046,\n",
              "         0.03859074, -0.06889391],\n",
              "       [ 0.00476504, -0.03105379, -0.0586676 , ...,  0.00602964,\n",
              "        -0.02763776, -0.04165364],\n",
              "       [-0.06189284, -0.06901957,  0.07102345, ..., -0.04238207,\n",
              "         0.07121518, -0.07331658],\n",
              "       ...,\n",
              "       [-0.03048757,  0.02155137, -0.05400612, ..., -0.00113463,\n",
              "         0.00228987,  0.05581069],\n",
              "       [ 0.07061854, -0.06960931,  0.07038955, ..., -0.00384101,\n",
              "         0.00034875,  0.02878492],\n",
              "       [-0.06022581,  0.01577859, -0.02585464, ..., -0.00527829,\n",
              "         0.00272203, -0.06793761]], dtype=float32)"
            ]
          },
          "metadata": {
            "tags": []
          },
          "execution_count": 81
        }
      ]
    },
    {
      "cell_type": "code",
      "metadata": {
        "id": "i-AWFPWX96nm",
        "colab": {
          "base_uri": "https://localhost:8080/"
        },
        "outputId": "efd493da-814d-4f36-c1fc-42cc399f6450"
      },
      "source": [
        "weights.shape"
      ],
      "execution_count": 82,
      "outputs": [
        {
          "output_type": "execute_result",
          "data": {
            "text/plain": [
              "(784, 300)"
            ]
          },
          "metadata": {
            "tags": []
          },
          "execution_count": 82
        }
      ]
    },
    {
      "cell_type": "code",
      "metadata": {
        "colab": {
          "base_uri": "https://localhost:8080/"
        },
        "id": "qb7RJWWg96nm",
        "outputId": "c8f0150c-1f0a-403d-907b-f9cdac96aece"
      },
      "source": [
        "biases"
      ],
      "execution_count": 83,
      "outputs": [
        {
          "output_type": "execute_result",
          "data": {
            "text/plain": [
              "array([0., 0., 0., 0., 0., 0., 0., 0., 0., 0., 0., 0., 0., 0., 0., 0., 0.,\n",
              "       0., 0., 0., 0., 0., 0., 0., 0., 0., 0., 0., 0., 0., 0., 0., 0., 0.,\n",
              "       0., 0., 0., 0., 0., 0., 0., 0., 0., 0., 0., 0., 0., 0., 0., 0., 0.,\n",
              "       0., 0., 0., 0., 0., 0., 0., 0., 0., 0., 0., 0., 0., 0., 0., 0., 0.,\n",
              "       0., 0., 0., 0., 0., 0., 0., 0., 0., 0., 0., 0., 0., 0., 0., 0., 0.,\n",
              "       0., 0., 0., 0., 0., 0., 0., 0., 0., 0., 0., 0., 0., 0., 0., 0., 0.,\n",
              "       0., 0., 0., 0., 0., 0., 0., 0., 0., 0., 0., 0., 0., 0., 0., 0., 0.,\n",
              "       0., 0., 0., 0., 0., 0., 0., 0., 0., 0., 0., 0., 0., 0., 0., 0., 0.,\n",
              "       0., 0., 0., 0., 0., 0., 0., 0., 0., 0., 0., 0., 0., 0., 0., 0., 0.,\n",
              "       0., 0., 0., 0., 0., 0., 0., 0., 0., 0., 0., 0., 0., 0., 0., 0., 0.,\n",
              "       0., 0., 0., 0., 0., 0., 0., 0., 0., 0., 0., 0., 0., 0., 0., 0., 0.,\n",
              "       0., 0., 0., 0., 0., 0., 0., 0., 0., 0., 0., 0., 0., 0., 0., 0., 0.,\n",
              "       0., 0., 0., 0., 0., 0., 0., 0., 0., 0., 0., 0., 0., 0., 0., 0., 0.,\n",
              "       0., 0., 0., 0., 0., 0., 0., 0., 0., 0., 0., 0., 0., 0., 0., 0., 0.,\n",
              "       0., 0., 0., 0., 0., 0., 0., 0., 0., 0., 0., 0., 0., 0., 0., 0., 0.,\n",
              "       0., 0., 0., 0., 0., 0., 0., 0., 0., 0., 0., 0., 0., 0., 0., 0., 0.,\n",
              "       0., 0., 0., 0., 0., 0., 0., 0., 0., 0., 0., 0., 0., 0., 0., 0., 0.,\n",
              "       0., 0., 0., 0., 0., 0., 0., 0., 0., 0., 0.], dtype=float32)"
            ]
          },
          "metadata": {
            "tags": []
          },
          "execution_count": 83
        }
      ]
    },
    {
      "cell_type": "code",
      "metadata": {
        "id": "SRfITXCA96nm",
        "colab": {
          "base_uri": "https://localhost:8080/"
        },
        "outputId": "d06939bf-9008-4fed-bac6-5372d701883f"
      },
      "source": [
        "biases.shape"
      ],
      "execution_count": 84,
      "outputs": [
        {
          "output_type": "execute_result",
          "data": {
            "text/plain": [
              "(300,)"
            ]
          },
          "metadata": {
            "tags": []
          },
          "execution_count": 84
        }
      ]
    },
    {
      "cell_type": "markdown",
      "metadata": {
        "id": "pDu2dLD8BbeJ"
      },
      "source": [
        "**Compilation:** We compile the model using the \"sparse_categorical_crossentropy\" loss function and \"accuracy\" as metric for a multi-label classification task. In addition, we choose the \"sgd\" optimizer."
      ]
    },
    {
      "cell_type": "code",
      "metadata": {
        "id": "Iha1BNF296nn"
      },
      "source": [
        "model.compile(loss=\"sparse_categorical_crossentropy\",\n",
        "              optimizer=\"sgd\",\n",
        "              metrics=[\"accuracy\"])"
      ],
      "execution_count": 85,
      "outputs": []
    },
    {
      "cell_type": "markdown",
      "metadata": {
        "id": "8CrUl_WUBw0E"
      },
      "source": [
        "**Note:** Once compiled, we use model.fit to train the model for at least 30 epochs. "
      ]
    },
    {
      "cell_type": "markdown",
      "metadata": {
        "id": "Z01D2HtY6B4r"
      },
      "source": [
        "We save the most crucial parameters (['loss', 'accuracy', 'val_loss', 'val_accuracy']) in a dictionary named \"history\". "
      ]
    },
    {
      "cell_type": "code",
      "metadata": {
        "id": "niNnbD7U96no",
        "colab": {
          "base_uri": "https://localhost:8080/"
        },
        "outputId": "106087dc-78e9-4a19-c146-ae3233e25c6d"
      },
      "source": [
        "history = model.fit(X_train, y_train, epochs=30,\n",
        "                    validation_data=(X_valid, y_valid))"
      ],
      "execution_count": 86,
      "outputs": [
        {
          "output_type": "stream",
          "text": [
            "Epoch 1/30\n",
            "1719/1719 [==============================] - 4s 2ms/step - loss: 1.0188 - accuracy: 0.6806 - val_loss: 0.5211 - val_accuracy: 0.8216\n",
            "Epoch 2/30\n",
            "1719/1719 [==============================] - 4s 2ms/step - loss: 0.5027 - accuracy: 0.8261 - val_loss: 0.4354 - val_accuracy: 0.8526\n",
            "Epoch 3/30\n",
            "1719/1719 [==============================] - 3s 2ms/step - loss: 0.4481 - accuracy: 0.8422 - val_loss: 0.5304 - val_accuracy: 0.8002\n",
            "Epoch 4/30\n",
            "1719/1719 [==============================] - 4s 2ms/step - loss: 0.4205 - accuracy: 0.8528 - val_loss: 0.3917 - val_accuracy: 0.8646\n",
            "Epoch 5/30\n",
            "1719/1719 [==============================] - 4s 2ms/step - loss: 0.4057 - accuracy: 0.8582 - val_loss: 0.3748 - val_accuracy: 0.8692\n",
            "Epoch 6/30\n",
            "1719/1719 [==============================] - 4s 2ms/step - loss: 0.3750 - accuracy: 0.8679 - val_loss: 0.3716 - val_accuracy: 0.8726\n",
            "Epoch 7/30\n",
            "1719/1719 [==============================] - 4s 2ms/step - loss: 0.3650 - accuracy: 0.8712 - val_loss: 0.3622 - val_accuracy: 0.8718\n",
            "Epoch 8/30\n",
            "1719/1719 [==============================] - 4s 2ms/step - loss: 0.3478 - accuracy: 0.8754 - val_loss: 0.3836 - val_accuracy: 0.8624\n",
            "Epoch 9/30\n",
            "1719/1719 [==============================] - 4s 2ms/step - loss: 0.3480 - accuracy: 0.8762 - val_loss: 0.3594 - val_accuracy: 0.8696\n",
            "Epoch 10/30\n",
            "1719/1719 [==============================] - 3s 2ms/step - loss: 0.3293 - accuracy: 0.8840 - val_loss: 0.3434 - val_accuracy: 0.8780\n",
            "Epoch 11/30\n",
            "1719/1719 [==============================] - 3s 2ms/step - loss: 0.3214 - accuracy: 0.8838 - val_loss: 0.3439 - val_accuracy: 0.8772\n",
            "Epoch 12/30\n",
            "1719/1719 [==============================] - 4s 2ms/step - loss: 0.3120 - accuracy: 0.8874 - val_loss: 0.3314 - val_accuracy: 0.8824\n",
            "Epoch 13/30\n",
            "1719/1719 [==============================] - 4s 2ms/step - loss: 0.3050 - accuracy: 0.8896 - val_loss: 0.3269 - val_accuracy: 0.8874\n",
            "Epoch 14/30\n",
            "1719/1719 [==============================] - 3s 2ms/step - loss: 0.2988 - accuracy: 0.8919 - val_loss: 0.3415 - val_accuracy: 0.8762\n",
            "Epoch 15/30\n",
            "1719/1719 [==============================] - 4s 2ms/step - loss: 0.2933 - accuracy: 0.8948 - val_loss: 0.3211 - val_accuracy: 0.8860\n",
            "Epoch 16/30\n",
            "1719/1719 [==============================] - 4s 2ms/step - loss: 0.2861 - accuracy: 0.8978 - val_loss: 0.3091 - val_accuracy: 0.8908\n",
            "Epoch 17/30\n",
            "1719/1719 [==============================] - 3s 2ms/step - loss: 0.2779 - accuracy: 0.9007 - val_loss: 0.3570 - val_accuracy: 0.8732\n",
            "Epoch 18/30\n",
            "1719/1719 [==============================] - 4s 2ms/step - loss: 0.2776 - accuracy: 0.9000 - val_loss: 0.3130 - val_accuracy: 0.8920\n",
            "Epoch 19/30\n",
            "1719/1719 [==============================] - 4s 2ms/step - loss: 0.2738 - accuracy: 0.9021 - val_loss: 0.3133 - val_accuracy: 0.8892\n",
            "Epoch 20/30\n",
            "1719/1719 [==============================] - 4s 2ms/step - loss: 0.2694 - accuracy: 0.9039 - val_loss: 0.3265 - val_accuracy: 0.8826\n",
            "Epoch 21/30\n",
            "1719/1719 [==============================] - 4s 2ms/step - loss: 0.2666 - accuracy: 0.9054 - val_loss: 0.3045 - val_accuracy: 0.8924\n",
            "Epoch 22/30\n",
            "1719/1719 [==============================] - 4s 2ms/step - loss: 0.2612 - accuracy: 0.9054 - val_loss: 0.2974 - val_accuracy: 0.8958\n",
            "Epoch 23/30\n",
            "1719/1719 [==============================] - 4s 2ms/step - loss: 0.2547 - accuracy: 0.9073 - val_loss: 0.2989 - val_accuracy: 0.8940\n",
            "Epoch 24/30\n",
            "1719/1719 [==============================] - 4s 2ms/step - loss: 0.2449 - accuracy: 0.9119 - val_loss: 0.3069 - val_accuracy: 0.8892\n",
            "Epoch 25/30\n",
            "1719/1719 [==============================] - 4s 2ms/step - loss: 0.2487 - accuracy: 0.9115 - val_loss: 0.2978 - val_accuracy: 0.8946\n",
            "Epoch 26/30\n",
            "1719/1719 [==============================] - 4s 2ms/step - loss: 0.2424 - accuracy: 0.9127 - val_loss: 0.3074 - val_accuracy: 0.8892\n",
            "Epoch 27/30\n",
            "1719/1719 [==============================] - 4s 2ms/step - loss: 0.2371 - accuracy: 0.9169 - val_loss: 0.2995 - val_accuracy: 0.8958\n",
            "Epoch 28/30\n",
            "1719/1719 [==============================] - 4s 2ms/step - loss: 0.2308 - accuracy: 0.9176 - val_loss: 0.2999 - val_accuracy: 0.8944\n",
            "Epoch 29/30\n",
            "1719/1719 [==============================] - 4s 2ms/step - loss: 0.2279 - accuracy: 0.9174 - val_loss: 0.3066 - val_accuracy: 0.8878\n",
            "Epoch 30/30\n",
            "1719/1719 [==============================] - 3s 2ms/step - loss: 0.2249 - accuracy: 0.9208 - val_loss: 0.3009 - val_accuracy: 0.8936\n"
          ],
          "name": "stdout"
        }
      ]
    },
    {
      "cell_type": "code",
      "metadata": {
        "id": "7ZsFB62z96no",
        "colab": {
          "base_uri": "https://localhost:8080/"
        },
        "outputId": "a29c87da-604f-4312-c1f1-ee700781d090"
      },
      "source": [
        "history.params"
      ],
      "execution_count": 87,
      "outputs": [
        {
          "output_type": "execute_result",
          "data": {
            "text/plain": [
              "{'epochs': 30, 'steps': 1719, 'verbose': 1}"
            ]
          },
          "metadata": {
            "tags": []
          },
          "execution_count": 87
        }
      ]
    },
    {
      "cell_type": "code",
      "metadata": {
        "id": "FdaUfmYb96np",
        "colab": {
          "base_uri": "https://localhost:8080/"
        },
        "outputId": "86b5fd23-ce07-4603-e85d-28ecf8474d5c"
      },
      "source": [
        "print(history.epoch)"
      ],
      "execution_count": 88,
      "outputs": [
        {
          "output_type": "stream",
          "text": [
            "[0, 1, 2, 3, 4, 5, 6, 7, 8, 9, 10, 11, 12, 13, 14, 15, 16, 17, 18, 19, 20, 21, 22, 23, 24, 25, 26, 27, 28, 29]\n"
          ],
          "name": "stdout"
        }
      ]
    },
    {
      "cell_type": "code",
      "metadata": {
        "id": "O3tukEej96np",
        "colab": {
          "base_uri": "https://localhost:8080/"
        },
        "outputId": "148d18b3-3bfe-49c2-919c-dee7b28132a5"
      },
      "source": [
        "history.history.keys()"
      ],
      "execution_count": 89,
      "outputs": [
        {
          "output_type": "execute_result",
          "data": {
            "text/plain": [
              "dict_keys(['loss', 'accuracy', 'val_loss', 'val_accuracy'])"
            ]
          },
          "metadata": {
            "tags": []
          },
          "execution_count": 89
        }
      ]
    },
    {
      "cell_type": "code",
      "metadata": {
        "id": "CCv_GPMi96np",
        "colab": {
          "base_uri": "https://localhost:8080/",
          "height": 386
        },
        "outputId": "c4cfcf36-7382-4bd3-d973-7a4cdd127b55"
      },
      "source": [
        "import pandas as pd\n",
        "\n",
        "pd.DataFrame(history.history).plot(figsize=(8, 5))\n",
        "plt.grid(True)\n",
        "plt.gca().set_ylim(0, 1)\n",
        "save_fig(\"keras_learning_curves_plot\")\n",
        "plt.show()"
      ],
      "execution_count": 90,
      "outputs": [
        {
          "output_type": "stream",
          "text": [
            "Saving figure keras_learning_curves_plot\n"
          ],
          "name": "stdout"
        },
        {
          "output_type": "display_data",
          "data": {
            "image/png": "[encoded data removed]",
            "text/plain": [
              "<Figure size 576x360 with 1 Axes>"
            ]
          },
          "metadata": {
            "tags": [],
            "needs_background": "light"
          }
        }
      ]
    },
    {
      "cell_type": "markdown",
      "metadata": {
        "id": "p2WdGqAlC0bm"
      },
      "source": [
        "**Task 4:** Validate your model using model.evaluate on the test set made of X_test and y_test. "
      ]
    },
    {
      "cell_type": "code",
      "metadata": {
        "id": "ZfC_sLA_96nq",
        "colab": {
          "base_uri": "https://localhost:8080/"
        },
        "outputId": "9c6bae6f-66d6-4d8f-d607-e5aa1c7287d3"
      },
      "source": [
        "# evaluate model on  test set\r\n",
        "test_loss, test_acc = model.evaluate(X_test, y_test)"
      ],
      "execution_count": 92,
      "outputs": [
        {
          "output_type": "stream",
          "text": [
            "313/313 [==============================] - 1s 2ms/step - loss: 0.3339 - accuracy: 0.8820\n"
          ],
          "name": "stdout"
        }
      ]
    },
    {
      "cell_type": "markdown",
      "metadata": {
        "id": "zM8ssoN0FjYS"
      },
      "source": [
        "**Task 5:** Select the first three samples from the test set and predict their corresponding classes using model.predict_classes . Then print the names/categories of the elements in  question (Eg. \"Pants\", \"trouser\") "
      ]
    },
    {
      "cell_type": "code",
      "metadata": {
        "id": "7C0en5Jk96nq"
      },
      "source": [
        "X_new = X_test[:3]"
      ],
      "execution_count": 93,
      "outputs": []
    },
    {
      "cell_type": "markdown",
      "metadata": {
        "id": "ySYN2iHW96nq"
      },
      "source": [
        "**Warning**: `model.predict_classes(X_new)` is deprecated. It is replaced with `np.argmax(model.predict(X_new), axis=-1)`."
      ]
    },
    {
      "cell_type": "code",
      "metadata": {
        "id": "2vzDuZw896nq"
      },
      "source": [
        "#y_pred = \n",
        "y_pred=np.argmax(model.predict(X_new), axis=-1)\n",
        "#y_pred"
      ],
      "execution_count": 94,
      "outputs": []
    },
    {
      "cell_type": "code",
      "metadata": {
        "id": "Eij41cJh96nr",
        "colab": {
          "base_uri": "https://localhost:8080/"
        },
        "outputId": "55d0ad60-ddde-4c85-e4f4-95d994be7058"
      },
      "source": [
        "y_new = y_test[:3]\n",
        "y_new"
      ],
      "execution_count": 95,
      "outputs": [
        {
          "output_type": "execute_result",
          "data": {
            "text/plain": [
              "array([9, 2, 1], dtype=uint8)"
            ]
          },
          "metadata": {
            "tags": []
          },
          "execution_count": 95
        }
      ]
    },
    {
      "cell_type": "code",
      "metadata": {
        "id": "MloueY3o96nr",
        "colab": {
          "base_uri": "https://localhost:8080/",
          "height": 182
        },
        "outputId": "137ebd18-5377-4862-c6d2-b5a4df2de09e"
      },
      "source": [
        "plt.figure(figsize=(7.2, 2.4))\n",
        "for index, image in enumerate(X_new):\n",
        "    plt.subplot(1, 3, index + 1)\n",
        "    plt.imshow(image, cmap=\"binary\", interpolation=\"nearest\")\n",
        "    plt.axis('off')\n",
        "    plt.title(class_names[y_test[index]], fontsize=12)\n",
        "plt.subplots_adjust(wspace=0.2, hspace=0.5)\n",
        "save_fig('fashion_mnist_images_plot', tight_layout=False)\n",
        "plt.show()"
      ],
      "execution_count": 96,
      "outputs": [
        {
          "output_type": "stream",
          "text": [
            "Saving figure fashion_mnist_images_plot\n"
          ],
          "name": "stdout"
        },
        {
          "output_type": "display_data",
          "data": {
            "image/png": "[encoded data removed]",
            "text/plain": [
              "<Figure size 518.4x172.8 with 3 Axes>"
            ]
          },
          "metadata": {
            "tags": [],
            "needs_background": "light"
          }
        }
      ]
    },
    {
      "cell_type": "markdown",
      "metadata": {
        "id": "wdQPEnaa96nr"
      },
      "source": [
        "# Regression MLP"
      ]
    },
    {
      "cell_type": "markdown",
      "metadata": {
        "id": "qMxzRNLS96ns"
      },
      "source": [
        "Let's load, split and scale the California housing dataset (the original one, not the modified one as in chapter 2):"
      ]
    },
    {
      "cell_type": "markdown",
      "metadata": {
        "id": "wJiLPiB5Gzht"
      },
      "source": [
        "**Task 6:** Scale your training, validation and test feature matrices using scikitlearn's StandardScaler. (Dcoumentation and example on this [link](https://scikit-learn.org/stable/modules/generated/sklearn.preprocessing.StandardScaler.html))"
      ]
    },
    {
      "cell_type": "code",
      "metadata": {
        "id": "ZJ3bFpfU96ns",
        "colab": {
          "base_uri": "https://localhost:8080/"
        },
        "outputId": "b32485af-15a2-4118-da65-33ce400f2ef8"
      },
      "source": [
        "from sklearn.datasets import fetch_california_housing\n",
        "from sklearn.model_selection import train_test_split\n",
        "from sklearn.preprocessing import StandardScaler\n",
        "\n",
        "housing = fetch_california_housing()\n",
        "\n",
        "X_train_full, X_test, y_train_full, y_test = train_test_split(housing.data, housing.target, random_state=42)\n",
        "X_train, X_valid, y_train, y_valid = train_test_split(X_train_full, y_train_full, random_state=42)\n"
      ],
      "execution_count": 97,
      "outputs": [
        {
          "output_type": "stream",
          "text": [
            "Downloading Cal. housing from https://ndownloader.figshare.com/files/5976036 to /root/scikit_learn_data\n"
          ],
          "name": "stderr"
        }
      ]
    },
    {
      "cell_type": "code",
      "metadata": {
        "colab": {
          "base_uri": "https://localhost:8080/"
        },
        "id": "3FIMxN7nDDJe",
        "outputId": "ceb90715-7d36-479f-b476-83d3862a03ec"
      },
      "source": [
        "X_train.shape"
      ],
      "execution_count": 98,
      "outputs": [
        {
          "output_type": "execute_result",
          "data": {
            "text/plain": [
              "(11610, 8)"
            ]
          },
          "metadata": {
            "tags": []
          },
          "execution_count": 98
        }
      ]
    },
    {
      "cell_type": "code",
      "metadata": {
        "colab": {
          "base_uri": "https://localhost:8080/"
        },
        "id": "nTyGDs9US6Yh",
        "outputId": "6869e408-8099-4657-8c07-75b07897a390"
      },
      "source": [
        "X_train"
      ],
      "execution_count": 102,
      "outputs": [
        {
          "output_type": "execute_result",
          "data": {
            "text/plain": [
              "array([[   3.5214    ,   15.        ,    3.04994451, ...,    1.60599334,\n",
              "          37.63      , -122.43      ],\n",
              "       [   5.3275    ,    5.        ,    6.49005964, ...,    3.44333996,\n",
              "          33.69      , -117.39      ],\n",
              "       [   3.1       ,   29.        ,    7.54237288, ...,    2.25084746,\n",
              "          38.44      , -122.98      ],\n",
              "       ...,\n",
              "       [   1.5561    ,   35.        ,    4.13993174, ...,    3.27645051,\n",
              "          34.11      , -117.29      ],\n",
              "       [   2.1055    ,   52.        ,    5.17849462, ...,    2.92688172,\n",
              "          36.76      , -119.79      ],\n",
              "       [   5.6022    ,   31.        ,    6.21971253, ...,    2.53798768,\n",
              "          38.04      , -122.2       ]])"
            ]
          },
          "metadata": {
            "tags": []
          },
          "execution_count": 102
        }
      ]
    },
    {
      "cell_type": "code",
      "metadata": {
        "id": "O0ehUJYh7Dcw"
      },
      "source": [
        "#scaler = \n",
        "#X_train = \n",
        "#X_valid = \n",
        "#X_test = \n",
        "from sklearn.preprocessing import StandardScaler\n",
        "sc=StandardScaler()\n",
        "X_train_std=sc.fit_transform (X_train)\n",
        "X_valid_std= sc.fit_transform (X_valid)\n",
        "X_test_std= sc.fit_transform (X_test)"
      ],
      "execution_count": 104,
      "outputs": []
    },
    {
      "cell_type": "code",
      "metadata": {
        "id": "tv60cUzR96ns"
      },
      "source": [
        "np.random.seed(42)\n",
        "tf.random.set_seed(42)"
      ],
      "execution_count": 100,
      "outputs": []
    },
    {
      "cell_type": "markdown",
      "metadata": {
        "id": "1NgYV0XyIlfr"
      },
      "source": [
        "**Task 7:** Build a Neural Network with one hidden layer with 30 neurons. The output layer has one neuron, which is the regression value. Compile, fit then train this network while choosing the suitable loss function and the SGD optimizer. \n",
        "\n",
        "**N.B:**  This task is similar to task 5 except that we now do regression not classification. "
      ]
    },
    {
      "cell_type": "code",
      "metadata": {
        "id": "wj5v_bRU96ns"
      },
      "source": [
        "#model = #\n",
        "\n",
        "\n",
        "#...\n",
        "#history = \n",
        "from tensorflow.keras.models import Sequential\n",
        "from tensorflow.keras.models import Sequential\n",
        "from tensorflow.keras.layers import Dense\n",
        "from tensorflow.keras.optimizers import Adam\n",
        "from tensorflow.keras.layers import Dropout\n",
        "\n",
        "\n",
        "model = Sequential()\n",
        "model.add(Dense(30,activation='relu',input_dim = 8))\n",
        "\n",
        "#model.add(Dense(30,activation='relu'))\n",
        "\n",
        "model.add(Dense(1))\n",
        "model.compile(optimizer='sgd',loss='mse')\n",
        "   \n",
        "\n"
      ],
      "execution_count": 113,
      "outputs": []
    },
    {
      "cell_type": "code",
      "metadata": {
        "colab": {
          "base_uri": "https://localhost:8080/"
        },
        "id": "Ef3HxUNzFxkm",
        "outputId": "a4205bee-e087-41ce-f426-8da0d1f1727d"
      },
      "source": [
        "model.fit(x=X_train_std,y=y_train,\r\n",
        "          validation_data=(X_valid_std,y_valid),\r\n",
        "          batch_size=64,epochs=30)\r\n",
        "model.summary()"
      ],
      "execution_count": 124,
      "outputs": [
        {
          "output_type": "stream",
          "text": [
            "Epoch 1/30\n",
            "182/182 [==============================] - 1s 3ms/step - loss: 0.3807 - val_loss: 0.4500\n",
            "Epoch 2/30\n",
            "182/182 [==============================] - 0s 2ms/step - loss: 0.4004 - val_loss: 0.5099\n",
            "Epoch 3/30\n",
            "182/182 [==============================] - 0s 2ms/step - loss: 0.4781 - val_loss: 0.5192\n",
            "Epoch 4/30\n",
            "182/182 [==============================] - 0s 2ms/step - loss: 0.4297 - val_loss: 0.4322\n",
            "Epoch 5/30\n",
            "182/182 [==============================] - 0s 2ms/step - loss: 0.3717 - val_loss: 0.4289\n",
            "Epoch 6/30\n",
            "182/182 [==============================] - 0s 2ms/step - loss: 0.3686 - val_loss: 0.4464\n",
            "Epoch 7/30\n",
            "182/182 [==============================] - 0s 2ms/step - loss: 0.3686 - val_loss: 0.4275\n",
            "Epoch 8/30\n",
            "182/182 [==============================] - 0s 2ms/step - loss: 0.3658 - val_loss: 0.4315\n",
            "Epoch 9/30\n",
            "182/182 [==============================] - 0s 2ms/step - loss: 0.3642 - val_loss: 0.4307\n",
            "Epoch 10/30\n",
            "182/182 [==============================] - 0s 2ms/step - loss: 0.3630 - val_loss: 0.4181\n",
            "Epoch 11/30\n",
            "182/182 [==============================] - 0s 2ms/step - loss: 0.3620 - val_loss: 0.4223\n",
            "Epoch 12/30\n",
            "182/182 [==============================] - 0s 2ms/step - loss: 0.3619 - val_loss: 0.4204\n",
            "Epoch 13/30\n",
            "182/182 [==============================] - 0s 2ms/step - loss: 0.3600 - val_loss: 0.4199\n",
            "Epoch 14/30\n",
            "182/182 [==============================] - 0s 2ms/step - loss: 0.3586 - val_loss: 0.4205\n",
            "Epoch 15/30\n",
            "182/182 [==============================] - 0s 2ms/step - loss: 0.3594 - val_loss: 0.4164\n",
            "Epoch 16/30\n",
            "182/182 [==============================] - 0s 2ms/step - loss: 0.3572 - val_loss: 0.4157\n",
            "Epoch 17/30\n",
            "182/182 [==============================] - 0s 2ms/step - loss: 0.3566 - val_loss: 0.4205\n",
            "Epoch 18/30\n",
            "182/182 [==============================] - 0s 2ms/step - loss: 0.3560 - val_loss: 0.4196\n",
            "Epoch 19/30\n",
            "182/182 [==============================] - 0s 2ms/step - loss: 0.3572 - val_loss: 0.4212\n",
            "Epoch 20/30\n",
            "182/182 [==============================] - 0s 2ms/step - loss: 0.3549 - val_loss: 0.4138\n",
            "Epoch 21/30\n",
            "182/182 [==============================] - 0s 2ms/step - loss: 0.3535 - val_loss: 0.4175\n",
            "Epoch 22/30\n",
            "182/182 [==============================] - 0s 2ms/step - loss: 0.3542 - val_loss: 0.4221\n",
            "Epoch 23/30\n",
            "182/182 [==============================] - 0s 2ms/step - loss: 0.3522 - val_loss: 0.4156\n",
            "Epoch 24/30\n",
            "182/182 [==============================] - 0s 2ms/step - loss: 0.3512 - val_loss: 0.4182\n",
            "Epoch 25/30\n",
            "182/182 [==============================] - 0s 2ms/step - loss: 0.3511 - val_loss: 0.4160\n",
            "Epoch 26/30\n",
            "182/182 [==============================] - 0s 2ms/step - loss: 0.3495 - val_loss: 0.4121\n",
            "Epoch 27/30\n",
            "182/182 [==============================] - 0s 2ms/step - loss: 0.3527 - val_loss: 0.4130\n",
            "Epoch 28/30\n",
            "182/182 [==============================] - 0s 2ms/step - loss: 0.3493 - val_loss: 0.4112\n",
            "Epoch 29/30\n",
            "182/182 [==============================] - 0s 2ms/step - loss: 0.3512 - val_loss: 0.4087\n",
            "Epoch 30/30\n",
            "182/182 [==============================] - 0s 2ms/step - loss: 0.3484 - val_loss: 0.4135\n",
            "Model: \"sequential_3\"\n",
            "_________________________________________________________________\n",
            "Layer (type)                 Output Shape              Param #   \n",
            "=================================================================\n",
            "dense_9 (Dense)              (None, 30)                270       \n",
            "_________________________________________________________________\n",
            "dense_10 (Dense)             (None, 1)                 31        \n",
            "=================================================================\n",
            "Total params: 301\n",
            "Trainable params: 301\n",
            "Non-trainable params: 0\n",
            "_________________________________________________________________\n"
          ],
          "name": "stdout"
        }
      ]
    },
    {
      "cell_type": "code",
      "metadata": {
        "id": "F9B_e4Tg96ns",
        "colab": {
          "base_uri": "https://localhost:8080/",
          "height": 273
        },
        "outputId": "291b8c30-a4fd-4580-fed8-897b1315f289"
      },
      "source": [
        "import matplotlib.pyplot as plt\n",
        "import pandas as pd\n",
        "\n",
        "\n",
        "plt.plot(pd.DataFrame(history.history))\n",
        "plt.grid(True)\n",
        "plt.gca().set_ylim(0, 1)\n",
        "plt.show()"
      ],
      "execution_count": 125,
      "outputs": [
        {
          "output_type": "display_data",
          "data": {
            "image/png": "[encoded data removed]",
            "text/plain": [
              "<Figure size 432x288 with 1 Axes>"
            ]
          },
          "metadata": {
            "tags": [],
            "needs_background": "light"
          }
        }
      ]
    },
    {
      "cell_type": "markdown",
      "metadata": {
        "id": "bSADjQQDJLgh"
      },
      "source": [
        "**Task 8:** Validate your model using model.evaluate on a test set. "
      ]
    },
    {
      "cell_type": "code",
      "metadata": {
        "id": "N3IL0WlYJCx6",
        "colab": {
          "base_uri": "https://localhost:8080/",
          "height": 425
        },
        "outputId": "9cc91ef1-c75a-4189-8d5b-5268c664d374"
      },
      "source": [
        "#mse_test = \n",
        "#X_new = \n",
        "#y_pred = '\n",
        "X_new=model.evaluate(X_test_std)\n",
        "y_pred = model.predict(X_test_std)\n",
        "from sklearn import metrics\n",
        "print('MAE:', metrics.mean_absolute_error(y_test, y_pred))  \n",
        "print('MSE:', metrics.mean_squared_error(y_test, y_pred))  \n",
        "print('RMSE:', np.sqrt(metrics.mean_squared_error(y_test, y_pred)))\n",
        "print('VarScore:',metrics.explained_variance_score(y_test,y_pred))\n",
        "# Visualizing Our predictions\n",
        "fig = plt.figure(figsize=(10,5))\n",
        "plt.scatter(y_test,y_pred)\n",
        "# Perfect predictions\n",
        "plt.plot(y_test,y_test,'r')"
      ],
      "execution_count": 126,
      "outputs": [
        {
          "output_type": "stream",
          "text": [
            "162/162 [==============================] - 0s 1ms/step - loss: 0.0000e+00\n",
            "MAE: 0.4380028165279211\n",
            "MSE: 0.383114274861725\n",
            "RMSE: 0.6189622564112653\n",
            "VarScore: 0.7160274219100047\n"
          ],
          "name": "stdout"
        },
        {
          "output_type": "execute_result",
          "data": {
            "text/plain": [
              "[<matplotlib.lines.Line2D at 0x7fe011b6e290>]"
            ]
          },
          "metadata": {
            "tags": []
          },
          "execution_count": 126
        },
        {
          "output_type": "display_data",
          "data": {
            "image/png": "[encoded data removed]",
            "text/plain": [
              "<Figure size 720x360 with 1 Axes>"
            ]
          },
          "metadata": {
            "tags": [],
            "needs_background": "light"
          }
        }
      ]
    },
    {
      "cell_type": "code",
      "metadata": {
        "id": "Gk42kovV96nt"
      },
      "source": [
        "y_pred=model.predict(X_test_std)"
      ],
      "execution_count": 127,
      "outputs": []
    },
    {
      "cell_type": "code",
      "metadata": {
        "colab": {
          "base_uri": "https://localhost:8080/"
        },
        "id": "OswBD8FdIBaK",
        "outputId": "fb26ab51-ffcb-42d1-8734-39c1de64c192"
      },
      "source": [
        "y_pred"
      ],
      "execution_count": 128,
      "outputs": [
        {
          "output_type": "execute_result",
          "data": {
            "text/plain": [
              "array([[0.58052313],\n",
              "       [1.7666162 ],\n",
              "       [4.7991767 ],\n",
              "       ...,\n",
              "       [1.4204574 ],\n",
              "       [2.4057264 ],\n",
              "       [4.2501597 ]], dtype=float32)"
            ]
          },
          "metadata": {
            "tags": []
          },
          "execution_count": 128
        }
      ]
    },
    {
      "cell_type": "code",
      "metadata": {
        "colab": {
          "base_uri": "https://localhost:8080/",
          "height": 284
        },
        "id": "v3A4Aa6yVumi",
        "outputId": "8f043e8a-9981-4cb6-daed-19d494cd8134"
      },
      "source": [
        "plt.plot(y_test, color = 'red', label = 'Real data')\r\n",
        "plt.plot(y_pred, color = 'blue', label = 'Predicted data')\r\n",
        "plt.title('Prediction')\r\n",
        "plt.legend()\r\n",
        "plt.show()"
      ],
      "execution_count": 130,
      "outputs": [
        {
          "output_type": "display_data",
          "data": {
            "image/png": "[encoded data removed]",
            "text/plain": [
              "<Figure size 432x288 with 1 Axes>"
            ]
          },
          "metadata": {
            "tags": [],
            "needs_background": "light"
          }
        }
      ]
    },
    {
      "cell_type": "markdown",
      "metadata": {
        "id": "b_YAL3g-96nx"
      },
      "source": [
        "# Saving the model weights for future use"
      ]
    },
    {
      "cell_type": "code",
      "metadata": {
        "id": "CIMTsRwT96ny"
      },
      "source": [
        "model.save(\"my_keras_model.h5\")"
      ],
      "execution_count": 131,
      "outputs": []
    },
    {
      "cell_type": "code",
      "metadata": {
        "id": "BrgCYxY596ny"
      },
      "source": [
        "model = keras.models.load_model(\"my_keras_model.h5\")"
      ],
      "execution_count": 132,
      "outputs": []
    },
    {
      "cell_type": "code",
      "metadata": {
        "id": "XeUU8hqO96ny",
        "colab": {
          "base_uri": "https://localhost:8080/"
        },
        "outputId": "cee2b31a-146e-45d1-9f9e-d29523c65417"
      },
      "source": [
        "model.predict(X_test_std)"
      ],
      "execution_count": 133,
      "outputs": [
        {
          "output_type": "execute_result",
          "data": {
            "text/plain": [
              "array([[0.58052313],\n",
              "       [1.7666162 ],\n",
              "       [4.7991767 ],\n",
              "       ...,\n",
              "       [1.4204574 ],\n",
              "       [2.4057264 ],\n",
              "       [4.2501597 ]], dtype=float32)"
            ]
          },
          "metadata": {
            "tags": []
          },
          "execution_count": 133
        }
      ]
    },
    {
      "cell_type": "code",
      "metadata": {
        "id": "JTn29YSI96ny"
      },
      "source": [
        "model.save_weights(\"my_keras_weights.ckpt\")"
      ],
      "execution_count": 134,
      "outputs": []
    },
    {
      "cell_type": "code",
      "metadata": {
        "id": "4Ebtp4OJ96nz",
        "colab": {
          "base_uri": "https://localhost:8080/"
        },
        "outputId": "0f6ddba8-59d6-4565-8281-e661f0b3d2fc"
      },
      "source": [
        "model.load_weights(\"my_keras_weights.ckpt\")"
      ],
      "execution_count": 135,
      "outputs": [
        {
          "output_type": "execute_result",
          "data": {
            "text/plain": [
              "<tensorflow.python.training.tracking.util.CheckpointLoadStatus at 0x7fdfae457790>"
            ]
          },
          "metadata": {
            "tags": []
          },
          "execution_count": 135
        }
      ]
    },
    {
      "cell_type": "markdown",
      "metadata": {
        "id": "6EFNcwqg96n9"
      },
      "source": [
        "# Optional task"
      ]
    },
    {
      "cell_type": "markdown",
      "metadata": {
        "id": "8cO1eZvL96n-"
      },
      "source": [
        "*Exercise: Train a deep MLP on the MNIST dataset (you can load it using `keras.datasets.mnist.load_data()`. See if you can get over 98% precision. Try searching for the optimal learning rate by using the approach presented in this chapter (i.e., by growing the learning rate exponentially, plotting the loss, and finding the point where the loss shoots up). Try adding all the bells and whistles—save checkpoints, use early stopping, and plot learning curves using TensorBoard.*"
      ]
    },
    {
      "cell_type": "markdown",
      "metadata": {
        "id": "gRSB5E6q96n-"
      },
      "source": [
        "Let's load the dataset:"
      ]
    },
    {
      "cell_type": "code",
      "metadata": {
        "id": "QZxFNmxd96n-",
        "colab": {
          "base_uri": "https://localhost:8080/"
        },
        "outputId": "c80279c2-f9d1-418f-e986-b6cf3a5ed81b"
      },
      "source": [
        "(X_train_full, y_train_full), (X_test, y_test) = keras.datasets.mnist.load_data()"
      ],
      "execution_count": 138,
      "outputs": [
        {
          "output_type": "stream",
          "text": [
            "Downloading data from https://storage.googleapis.com/tensorflow/tf-keras-datasets/mnist.npz\n",
            "11493376/11490434 [==============================] - 0s 0us/step\n"
          ],
          "name": "stdout"
        }
      ]
    },
    {
      "cell_type": "markdown",
      "metadata": {
        "id": "uFbDQB_e96n-"
      },
      "source": [
        "Just like for the Fashion MNIST dataset, the MNIST training set contains 60,000 grayscale images, each 28x28 pixels:"
      ]
    },
    {
      "cell_type": "code",
      "metadata": {
        "id": "rKu9ctYq96n-",
        "colab": {
          "base_uri": "https://localhost:8080/"
        },
        "outputId": "182f2c9e-e2c4-42a3-f096-48747a7294d4"
      },
      "source": [
        "X_train_full.shape"
      ],
      "execution_count": 139,
      "outputs": [
        {
          "output_type": "execute_result",
          "data": {
            "text/plain": [
              "(60000, 28, 28)"
            ]
          },
          "metadata": {
            "tags": []
          },
          "execution_count": 139
        }
      ]
    },
    {
      "cell_type": "markdown",
      "metadata": {
        "id": "CjAPFHCy96n_"
      },
      "source": [
        "Each pixel intensity is also represented as a byte (0 to 255):"
      ]
    },
    {
      "cell_type": "code",
      "metadata": {
        "id": "FKsd4QsX96n_",
        "colab": {
          "base_uri": "https://localhost:8080/"
        },
        "outputId": "4c7b9526-6072-45f2-a87d-c45c6d0c72c7"
      },
      "source": [
        "X_train_full.dtype"
      ],
      "execution_count": 140,
      "outputs": [
        {
          "output_type": "execute_result",
          "data": {
            "text/plain": [
              "dtype('uint8')"
            ]
          },
          "metadata": {
            "tags": []
          },
          "execution_count": 140
        }
      ]
    },
    {
      "cell_type": "markdown",
      "metadata": {
        "id": "pkMt_Ore96n_"
      },
      "source": [
        "Let's split the full training set into a validation set and a (smaller) training set. We also scale the pixel intensities down to the 0-1 range and convert them to floats, by dividing by 255, just like we did for Fashion MNIST:"
      ]
    },
    {
      "cell_type": "code",
      "metadata": {
        "id": "yGsM7Im596n_"
      },
      "source": [
        "X_valid, X_train = X_train_full[:5000] / 255., X_train_full[5000:] / 255.\n",
        "y_valid, y_train = y_train_full[:5000], y_train_full[5000:]\n",
        "X_test = X_test / 255."
      ],
      "execution_count": 141,
      "outputs": []
    },
    {
      "cell_type": "markdown",
      "metadata": {
        "id": "GBVreanI96oA"
      },
      "source": [
        "Let's plot an image using Matplotlib's `imshow()` function, with a `'binary'`\n",
        " color map:"
      ]
    },
    {
      "cell_type": "code",
      "metadata": {
        "id": "2_wzz3Gp96oA",
        "colab": {
          "base_uri": "https://localhost:8080/",
          "height": 248
        },
        "outputId": "eaf913c3-351e-41c0-a969-e7a1257c5630"
      },
      "source": [
        "plt.imshow(X_train[0], cmap=\"binary\")\n",
        "plt.axis('off')\n",
        "plt.show()"
      ],
      "execution_count": 142,
      "outputs": [
        {
          "output_type": "display_data",
          "data": {
            "image/png": "[encoded data removed]",
            "text/plain": [
              "<Figure size 432x288 with 1 Axes>"
            ]
          },
          "metadata": {
            "tags": [],
            "needs_background": "light"
          }
        }
      ]
    },
    {
      "cell_type": "markdown",
      "metadata": {
        "id": "rYEP13UT96oA"
      },
      "source": [
        "The labels are the class IDs (represented as uint8), from 0 to 9. Conveniently, the class IDs correspond to the digits represented in the images, so we don't need a `class_names` array:"
      ]
    },
    {
      "cell_type": "code",
      "metadata": {
        "id": "wG8kJsZ796oA",
        "colab": {
          "base_uri": "https://localhost:8080/"
        },
        "outputId": "65a66653-e18f-40c0-f214-54a3dd5d65a0"
      },
      "source": [
        "y_train"
      ],
      "execution_count": 143,
      "outputs": [
        {
          "output_type": "execute_result",
          "data": {
            "text/plain": [
              "array([7, 3, 4, ..., 5, 6, 8], dtype=uint8)"
            ]
          },
          "metadata": {
            "tags": []
          },
          "execution_count": 143
        }
      ]
    },
    {
      "cell_type": "markdown",
      "metadata": {
        "id": "2a7wQTky96oB"
      },
      "source": [
        "The validation set contains 5,000 images, and the test set contains 10,000 images:"
      ]
    },
    {
      "cell_type": "code",
      "metadata": {
        "id": "FA48HsSM96oB",
        "colab": {
          "base_uri": "https://localhost:8080/"
        },
        "outputId": "7572e48e-11dd-40de-c111-4be6dcfeef60"
      },
      "source": [
        "X_valid.shape"
      ],
      "execution_count": 144,
      "outputs": [
        {
          "output_type": "execute_result",
          "data": {
            "text/plain": [
              "(5000, 28, 28)"
            ]
          },
          "metadata": {
            "tags": []
          },
          "execution_count": 144
        }
      ]
    },
    {
      "cell_type": "code",
      "metadata": {
        "id": "ibyP5j4496oB",
        "colab": {
          "base_uri": "https://localhost:8080/"
        },
        "outputId": "d0d48708-3344-4fc4-ea71-ad7f2c56e5db"
      },
      "source": [
        "X_test.shape"
      ],
      "execution_count": 145,
      "outputs": [
        {
          "output_type": "execute_result",
          "data": {
            "text/plain": [
              "(10000, 28, 28)"
            ]
          },
          "metadata": {
            "tags": []
          },
          "execution_count": 145
        }
      ]
    },
    {
      "cell_type": "markdown",
      "metadata": {
        "id": "BB27dAFd96oB"
      },
      "source": [
        "Let's take a look at a sample of the images in the dataset:"
      ]
    },
    {
      "cell_type": "code",
      "metadata": {
        "id": "388NsEEo96oB",
        "colab": {
          "base_uri": "https://localhost:8080/",
          "height": 308
        },
        "outputId": "7806ab88-ac93-4089-c052-0c10fb57731e"
      },
      "source": [
        "n_rows = 4\n",
        "n_cols = 10\n",
        "plt.figure(figsize=(n_cols * 1.2, n_rows * 1.2))\n",
        "for row in range(n_rows):\n",
        "    for col in range(n_cols):\n",
        "        index = n_cols * row + col\n",
        "        plt.subplot(n_rows, n_cols, index + 1)\n",
        "        plt.imshow(X_train[index], cmap=\"binary\", interpolation=\"nearest\")\n",
        "        plt.axis('off')\n",
        "        plt.title(y_train[index], fontsize=12)\n",
        "plt.subplots_adjust(wspace=0.2, hspace=0.5)\n",
        "plt.show()"
      ],
      "execution_count": 146,
      "outputs": [
        {
          "output_type": "display_data",
          "data": {
            "image/png": "[encoded data removed]",
            "text/plain": [
              "<Figure size 864x345.6 with 40 Axes>"
            ]
          },
          "metadata": {
            "tags": [],
            "needs_background": "light"
          }
        }
      ]
    },
    {
      "cell_type": "markdown",
      "metadata": {
        "id": "duYAqe7U96oC"
      },
      "source": [
        "Let's build a simple dense network and find the optimal learning rate. We will need a callback to grow the learning rate at each iteration. It will also record the learning rate and the loss at each iteration:"
      ]
    },
    {
      "cell_type": "markdown",
      "metadata": {
        "id": "dXlp1yv2lGJ7"
      },
      "source": [
        "**Task 9:** Using the same methodology as earlier tasks, clear the session, set random seed to 42 and build a neural network with 2 hidden layers to classify MNIST images. "
      ]
    },
    {
      "cell_type": "code",
      "metadata": {
        "id": "g8Q2kkAs96oC"
      },
      "source": [
        "#\r\n",
        "keras.backend.clear_session()\r\n",
        "np.random.seed(42)\r\n",
        "tf.random.set_seed(42)"
      ],
      "execution_count": 169,
      "outputs": []
    },
    {
      "cell_type": "code",
      "metadata": {
        "id": "Nr3tFAgD96oC"
      },
      "source": [
        "#model =\r\n",
        "model=Sequential()\r\n",
        "model = keras.models.Sequential([\r\n",
        "    keras.layers.Flatten(input_shape=[28, 28]),\r\n",
        "    keras.layers.Dense(300, activation=\"relu\"),\r\n",
        "    keras.layers.Dense(100, activation=\"relu\"),\r\n",
        "    \r\n",
        "    keras.layers.Dense(10, activation=\"softmax\")\r\n",
        "])\r\n"
      ],
      "execution_count": 170,
      "outputs": []
    },
    {
      "cell_type": "code",
      "metadata": {
        "id": "8_Ex9OIR96oD",
        "colab": {
          "base_uri": "https://localhost:8080/"
        },
        "outputId": "572ca628-f06d-4789-b8f3-a4970d31c69c"
      },
      "source": [
        "# compile model\r\n",
        "model.summary()"
      ],
      "execution_count": 171,
      "outputs": [
        {
          "output_type": "stream",
          "text": [
            "Model: \"sequential_1\"\n",
            "_________________________________________________________________\n",
            "Layer (type)                 Output Shape              Param #   \n",
            "=================================================================\n",
            "flatten (Flatten)            (None, 784)               0         \n",
            "_________________________________________________________________\n",
            "dense (Dense)                (None, 300)               235500    \n",
            "_________________________________________________________________\n",
            "dense_1 (Dense)              (None, 100)               30100     \n",
            "_________________________________________________________________\n",
            "dense_2 (Dense)              (None, 10)                1010      \n",
            "=================================================================\n",
            "Total params: 266,610\n",
            "Trainable params: 266,610\n",
            "Non-trainable params: 0\n",
            "_________________________________________________________________\n"
          ],
          "name": "stdout"
        }
      ]
    },
    {
      "cell_type": "code",
      "metadata": {
        "id": "lPtkPzTrXijD"
      },
      "source": [
        "model.compile(loss=\"sparse_categorical_crossentropy\",\r\n",
        "              optimizer=\"sgd\",\r\n",
        "              metrics=[\"accuracy\"])"
      ],
      "execution_count": 172,
      "outputs": []
    },
    {
      "cell_type": "markdown",
      "metadata": {
        "id": "uDHoyVX696oD"
      },
      "source": [
        "Now let's train the model for just 1 epoch:"
      ]
    },
    {
      "cell_type": "code",
      "metadata": {
        "id": "RkLRa1ik96oD",
        "colab": {
          "base_uri": "https://localhost:8080/"
        },
        "outputId": "d18a3121-1544-4006-b03e-ae64b1c89d71"
      },
      "source": [
        "#history =\r\n",
        "history = model.fit(X_train, y_train, epochs=1,\r\n",
        "                    validation_data=(X_valid, y_valid))"
      ],
      "execution_count": 173,
      "outputs": [
        {
          "output_type": "stream",
          "text": [
            "1719/1719 [==============================] - 4s 2ms/step - loss: 1.0483 - accuracy: 0.7216 - val_loss: 0.3103 - val_accuracy: 0.9120\n"
          ],
          "name": "stdout"
        }
      ]
    },
    {
      "cell_type": "code",
      "metadata": {
        "id": "QFQ7H2SP96oF",
        "colab": {
          "base_uri": "https://localhost:8080/",
          "height": 35
        },
        "outputId": "19a771ca-a9b0-429a-d944-53908e10922d"
      },
      "source": [
        "run_index = 1 # increment this at every run\n",
        "run_logdir = os.path.join(os.curdir, \"my_mnist_logs\", \"run_{:03d}\".format(run_index))\n",
        "run_logdir"
      ],
      "execution_count": 174,
      "outputs": [
        {
          "output_type": "execute_result",
          "data": {
            "application/vnd.google.colaboratory.intrinsic+json": {
              "type": "string"
            },
            "text/plain": [
              "'./my_mnist_logs/run_001'"
            ]
          },
          "metadata": {
            "tags": []
          },
          "execution_count": 174
        }
      ]
    },
    {
      "cell_type": "code",
      "metadata": {
        "id": "gXTWKMua96oF",
        "colab": {
          "base_uri": "https://localhost:8080/"
        },
        "outputId": "dc060e74-c1be-46cc-af23-7997fe7650df"
      },
      "source": [
        "early_stopping_cb = keras.callbacks.EarlyStopping(patience=20)\n",
        "checkpoint_cb = keras.callbacks.ModelCheckpoint(\"my_mnist_model.h5\", save_best_only=True)\n",
        "tensorboard_cb = keras.callbacks.TensorBoard(run_logdir)\n",
        "\n",
        "history = model.fit(X_train, y_train, epochs=100,\n",
        "                    validation_data=(X_valid, y_valid),\n",
        "                    callbacks=[checkpoint_cb, early_stopping_cb, tensorboard_cb])"
      ],
      "execution_count": 175,
      "outputs": [
        {
          "output_type": "stream",
          "text": [
            "Epoch 1/100\n",
            "1719/1719 [==============================] - 4s 2ms/step - loss: 0.2954 - accuracy: 0.9154 - val_loss: 0.2434 - val_accuracy: 0.9324\n",
            "Epoch 2/100\n",
            "1719/1719 [==============================] - 4s 2ms/step - loss: 0.2424 - accuracy: 0.9307 - val_loss: 0.2114 - val_accuracy: 0.9408\n",
            "Epoch 3/100\n",
            "1719/1719 [==============================] - 4s 2ms/step - loss: 0.2080 - accuracy: 0.9407 - val_loss: 0.1805 - val_accuracy: 0.9490\n",
            "Epoch 4/100\n",
            "1719/1719 [==============================] - 4s 2ms/step - loss: 0.1810 - accuracy: 0.9486 - val_loss: 0.1628 - val_accuracy: 0.9548\n",
            "Epoch 5/100\n",
            "1719/1719 [==============================] - 4s 2ms/step - loss: 0.1601 - accuracy: 0.9538 - val_loss: 0.1490 - val_accuracy: 0.9572\n",
            "Epoch 6/100\n",
            "1719/1719 [==============================] - 4s 2ms/step - loss: 0.1433 - accuracy: 0.9596 - val_loss: 0.1358 - val_accuracy: 0.9630\n",
            "Epoch 7/100\n",
            "1719/1719 [==============================] - 4s 2ms/step - loss: 0.1290 - accuracy: 0.9637 - val_loss: 0.1269 - val_accuracy: 0.9638\n",
            "Epoch 8/100\n",
            "1719/1719 [==============================] - 4s 2ms/step - loss: 0.1173 - accuracy: 0.9667 - val_loss: 0.1211 - val_accuracy: 0.9658\n",
            "Epoch 9/100\n",
            "1719/1719 [==============================] - 4s 2ms/step - loss: 0.1073 - accuracy: 0.9699 - val_loss: 0.1114 - val_accuracy: 0.9690\n",
            "Epoch 10/100\n",
            "1719/1719 [==============================] - 4s 2ms/step - loss: 0.0989 - accuracy: 0.9719 - val_loss: 0.1028 - val_accuracy: 0.9704\n",
            "Epoch 11/100\n",
            "1719/1719 [==============================] - 4s 2ms/step - loss: 0.0910 - accuracy: 0.9740 - val_loss: 0.0997 - val_accuracy: 0.9704\n",
            "Epoch 12/100\n",
            "1719/1719 [==============================] - 4s 2ms/step - loss: 0.0842 - accuracy: 0.9761 - val_loss: 0.0961 - val_accuracy: 0.9726\n",
            "Epoch 13/100\n",
            "1719/1719 [==============================] - 4s 2ms/step - loss: 0.0782 - accuracy: 0.9781 - val_loss: 0.0910 - val_accuracy: 0.9726\n",
            "Epoch 14/100\n",
            "1719/1719 [==============================] - 4s 2ms/step - loss: 0.0726 - accuracy: 0.9796 - val_loss: 0.0888 - val_accuracy: 0.9746\n",
            "Epoch 15/100\n",
            "1719/1719 [==============================] - 4s 2ms/step - loss: 0.0677 - accuracy: 0.9812 - val_loss: 0.0846 - val_accuracy: 0.9736\n",
            "Epoch 16/100\n",
            "1719/1719 [==============================] - 4s 2ms/step - loss: 0.0632 - accuracy: 0.9819 - val_loss: 0.0830 - val_accuracy: 0.9742\n",
            "Epoch 17/100\n",
            "1719/1719 [==============================] - 4s 2ms/step - loss: 0.0591 - accuracy: 0.9834 - val_loss: 0.0812 - val_accuracy: 0.9756\n",
            "Epoch 18/100\n",
            "1719/1719 [==============================] - 4s 2ms/step - loss: 0.0554 - accuracy: 0.9845 - val_loss: 0.0775 - val_accuracy: 0.9772\n",
            "Epoch 19/100\n",
            "1719/1719 [==============================] - 4s 2ms/step - loss: 0.0520 - accuracy: 0.9861 - val_loss: 0.0762 - val_accuracy: 0.9778\n",
            "Epoch 20/100\n",
            "1719/1719 [==============================] - 4s 2ms/step - loss: 0.0488 - accuracy: 0.9870 - val_loss: 0.0759 - val_accuracy: 0.9778\n",
            "Epoch 21/100\n",
            "1719/1719 [==============================] - 4s 2ms/step - loss: 0.0459 - accuracy: 0.9878 - val_loss: 0.0723 - val_accuracy: 0.9790\n",
            "Epoch 22/100\n",
            "1719/1719 [==============================] - 4s 2ms/step - loss: 0.0431 - accuracy: 0.9884 - val_loss: 0.0732 - val_accuracy: 0.9776\n",
            "Epoch 23/100\n",
            "1719/1719 [==============================] - 4s 2ms/step - loss: 0.0407 - accuracy: 0.9891 - val_loss: 0.0743 - val_accuracy: 0.9770\n",
            "Epoch 24/100\n",
            "1719/1719 [==============================] - 4s 2ms/step - loss: 0.0381 - accuracy: 0.9902 - val_loss: 0.0717 - val_accuracy: 0.9776\n",
            "Epoch 25/100\n",
            "1719/1719 [==============================] - 4s 2ms/step - loss: 0.0362 - accuracy: 0.9908 - val_loss: 0.0697 - val_accuracy: 0.9798\n",
            "Epoch 26/100\n",
            "1719/1719 [==============================] - 4s 2ms/step - loss: 0.0340 - accuracy: 0.9917 - val_loss: 0.0671 - val_accuracy: 0.9808\n",
            "Epoch 27/100\n",
            "1719/1719 [==============================] - 4s 2ms/step - loss: 0.0321 - accuracy: 0.9921 - val_loss: 0.0665 - val_accuracy: 0.9804\n",
            "Epoch 28/100\n",
            "1719/1719 [==============================] - 4s 2ms/step - loss: 0.0303 - accuracy: 0.9929 - val_loss: 0.0684 - val_accuracy: 0.9810\n",
            "Epoch 29/100\n",
            "1719/1719 [==============================] - 4s 2ms/step - loss: 0.0283 - accuracy: 0.9938 - val_loss: 0.0669 - val_accuracy: 0.9800\n",
            "Epoch 30/100\n",
            "1719/1719 [==============================] - 4s 2ms/step - loss: 0.0270 - accuracy: 0.9941 - val_loss: 0.0668 - val_accuracy: 0.9800\n",
            "Epoch 31/100\n",
            "1719/1719 [==============================] - 4s 2ms/step - loss: 0.0253 - accuracy: 0.9945 - val_loss: 0.0658 - val_accuracy: 0.9808\n",
            "Epoch 32/100\n",
            "1719/1719 [==============================] - 4s 2ms/step - loss: 0.0239 - accuracy: 0.9952 - val_loss: 0.0658 - val_accuracy: 0.9814\n",
            "Epoch 33/100\n",
            "1719/1719 [==============================] - 4s 2ms/step - loss: 0.0227 - accuracy: 0.9955 - val_loss: 0.0650 - val_accuracy: 0.9820\n",
            "Epoch 34/100\n",
            "1719/1719 [==============================] - 4s 2ms/step - loss: 0.0215 - accuracy: 0.9958 - val_loss: 0.0661 - val_accuracy: 0.9812\n",
            "Epoch 35/100\n",
            "1719/1719 [==============================] - 4s 2ms/step - loss: 0.0203 - accuracy: 0.9968 - val_loss: 0.0653 - val_accuracy: 0.9808\n",
            "Epoch 36/100\n",
            "1719/1719 [==============================] - 4s 2ms/step - loss: 0.0191 - accuracy: 0.9969 - val_loss: 0.0671 - val_accuracy: 0.9804\n",
            "Epoch 37/100\n",
            "1719/1719 [==============================] - 4s 2ms/step - loss: 0.0182 - accuracy: 0.9973 - val_loss: 0.0637 - val_accuracy: 0.9830\n",
            "Epoch 38/100\n",
            "1719/1719 [==============================] - 4s 2ms/step - loss: 0.0174 - accuracy: 0.9973 - val_loss: 0.0645 - val_accuracy: 0.9820\n",
            "Epoch 39/100\n",
            "1719/1719 [==============================] - 4s 2ms/step - loss: 0.0164 - accuracy: 0.9975 - val_loss: 0.0650 - val_accuracy: 0.9816\n",
            "Epoch 40/100\n",
            "1719/1719 [==============================] - 4s 2ms/step - loss: 0.0155 - accuracy: 0.9979 - val_loss: 0.0652 - val_accuracy: 0.9804\n",
            "Epoch 41/100\n",
            "1719/1719 [==============================] - 4s 2ms/step - loss: 0.0149 - accuracy: 0.9980 - val_loss: 0.0635 - val_accuracy: 0.9812\n",
            "Epoch 42/100\n",
            "1719/1719 [==============================] - 4s 2ms/step - loss: 0.0141 - accuracy: 0.9981 - val_loss: 0.0641 - val_accuracy: 0.9810\n",
            "Epoch 43/100\n",
            "1719/1719 [==============================] - 4s 2ms/step - loss: 0.0135 - accuracy: 0.9984 - val_loss: 0.0675 - val_accuracy: 0.9802\n",
            "Epoch 44/100\n",
            "1719/1719 [==============================] - 4s 2ms/step - loss: 0.0128 - accuracy: 0.9984 - val_loss: 0.0638 - val_accuracy: 0.9818\n",
            "Epoch 45/100\n",
            "1719/1719 [==============================] - 4s 2ms/step - loss: 0.0122 - accuracy: 0.9985 - val_loss: 0.0643 - val_accuracy: 0.9814\n",
            "Epoch 46/100\n",
            "1719/1719 [==============================] - 4s 2ms/step - loss: 0.0117 - accuracy: 0.9986 - val_loss: 0.0646 - val_accuracy: 0.9814\n",
            "Epoch 47/100\n",
            "1719/1719 [==============================] - 4s 2ms/step - loss: 0.0111 - accuracy: 0.9987 - val_loss: 0.0642 - val_accuracy: 0.9814\n",
            "Epoch 48/100\n",
            "1719/1719 [==============================] - 4s 3ms/step - loss: 0.0106 - accuracy: 0.9991 - val_loss: 0.0661 - val_accuracy: 0.9814\n",
            "Epoch 49/100\n",
            "1719/1719 [==============================] - 4s 2ms/step - loss: 0.0101 - accuracy: 0.9991 - val_loss: 0.0639 - val_accuracy: 0.9828\n",
            "Epoch 50/100\n",
            "1719/1719 [==============================] - 4s 2ms/step - loss: 0.0097 - accuracy: 0.9990 - val_loss: 0.0654 - val_accuracy: 0.9814\n",
            "Epoch 51/100\n",
            "1719/1719 [==============================] - 4s 2ms/step - loss: 0.0093 - accuracy: 0.9993 - val_loss: 0.0649 - val_accuracy: 0.9814\n",
            "Epoch 52/100\n",
            "1719/1719 [==============================] - 4s 2ms/step - loss: 0.0089 - accuracy: 0.9992 - val_loss: 0.0649 - val_accuracy: 0.9820\n",
            "Epoch 53/100\n",
            "1719/1719 [==============================] - 4s 2ms/step - loss: 0.0085 - accuracy: 0.9993 - val_loss: 0.0645 - val_accuracy: 0.9818\n",
            "Epoch 54/100\n",
            "1719/1719 [==============================] - 4s 2ms/step - loss: 0.0082 - accuracy: 0.9993 - val_loss: 0.0651 - val_accuracy: 0.9826\n",
            "Epoch 55/100\n",
            "1719/1719 [==============================] - 4s 2ms/step - loss: 0.0079 - accuracy: 0.9992 - val_loss: 0.0651 - val_accuracy: 0.9818\n",
            "Epoch 56/100\n",
            "1719/1719 [==============================] - 4s 2ms/step - loss: 0.0075 - accuracy: 0.9994 - val_loss: 0.0669 - val_accuracy: 0.9814\n",
            "Epoch 57/100\n",
            "1719/1719 [==============================] - 4s 2ms/step - loss: 0.0073 - accuracy: 0.9994 - val_loss: 0.0652 - val_accuracy: 0.9824\n",
            "Epoch 58/100\n",
            "1719/1719 [==============================] - 4s 2ms/step - loss: 0.0069 - accuracy: 0.9995 - val_loss: 0.0667 - val_accuracy: 0.9826\n",
            "Epoch 59/100\n",
            "1719/1719 [==============================] - 4s 2ms/step - loss: 0.0067 - accuracy: 0.9996 - val_loss: 0.0654 - val_accuracy: 0.9830\n",
            "Epoch 60/100\n",
            "1719/1719 [==============================] - 4s 2ms/step - loss: 0.0065 - accuracy: 0.9995 - val_loss: 0.0661 - val_accuracy: 0.9822\n",
            "Epoch 61/100\n",
            "1719/1719 [==============================] - 4s 2ms/step - loss: 0.0062 - accuracy: 0.9996 - val_loss: 0.0659 - val_accuracy: 0.9814\n"
          ],
          "name": "stdout"
        }
      ]
    },
    {
      "cell_type": "code",
      "metadata": {
        "id": "fOSz5oRF96oF",
        "colab": {
          "base_uri": "https://localhost:8080/"
        },
        "outputId": "4da597d8-e730-4deb-8e70-3a6a1ee6f0d7"
      },
      "source": [
        "model = keras.models.load_model(\"my_mnist_model.h5\") # rollback to best model\n",
        "model.evaluate(X_test, y_test)"
      ],
      "execution_count": 176,
      "outputs": [
        {
          "output_type": "stream",
          "text": [
            "313/313 [==============================] - 1s 2ms/step - loss: 0.0659 - accuracy: 0.9802\n"
          ],
          "name": "stdout"
        },
        {
          "output_type": "execute_result",
          "data": {
            "text/plain": [
              "[0.06593554466962814, 0.9801999926567078]"
            ]
          },
          "metadata": {
            "tags": []
          },
          "execution_count": 176
        }
      ]
    }
  ]
}